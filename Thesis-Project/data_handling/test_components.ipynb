{
 "cells": [
  {
   "cell_type": "code",
   "outputs": [
    {
     "name": "stdout",
     "output_type": "stream",
     "text": [
      "The autoreload extension is already loaded. To reload it, use:\n",
      "  %reload_ext autoreload\n",
      "The my_magics extension is already loaded. To reload it, use:\n",
      "  %reload_ext my_magics\n"
     ]
    }
   ],
   "source": [
    "%load_ext autoreload\n",
    "%load_ext my_magics\n",
    "%autoreload 2\n",
    "%matplotlib inline"
   ],
   "metadata": {
    "collapsed": false,
    "ExecuteTime": {
     "end_time": "2024-04-08T17:19:45.270861Z",
     "start_time": "2024-04-08T17:19:45.252740Z"
    }
   },
   "id": "1488b1fe7829ef69",
   "execution_count": 13
  },
  {
   "cell_type": "code",
   "execution_count": 14,
   "id": "initial_id",
   "metadata": {
    "collapsed": true,
    "ExecuteTime": {
     "end_time": "2024-04-08T17:19:47.052148Z",
     "start_time": "2024-04-08T17:19:47.035302Z"
    }
   },
   "outputs": [],
   "source": [
    "# %%isortify\n",
    "import json\n",
    "\n",
    "import config\n",
    "import matplotlib.pyplot as plt\n",
    "import torch\n",
    "import utils\n",
    "from IPython.display import HTML, display\n",
    "from matplotlib import animation\n",
    "from torch.utils.data import DataLoader\n",
    "from torchvision.transforms import v2\n",
    "\n",
    "from data_augmentation import VideoTransform\n",
    "from video_dataset import VideoDataset\n",
    "\n",
    "# TODO: test shuffle, kfold"
   ]
  },
  {
   "cell_type": "code",
   "outputs": [],
   "source": [
    "device = \"cuda\" if torch.cuda.is_available() else \"cpu\""
   ],
   "metadata": {
    "collapsed": false,
    "ExecuteTime": {
     "end_time": "2024-04-08T17:14:57.724089Z",
     "start_time": "2024-04-08T17:14:57.687250Z"
    }
   },
   "id": "1e6855f5b9a499bd",
   "execution_count": 3
  },
  {
   "cell_type": "markdown",
   "source": [
    "Load the transforms, datasets and dataloaders for each of the databases."
   ],
   "metadata": {
    "collapsed": false
   },
   "id": "79df8a031ccfa4c1"
  },
  {
   "cell_type": "code",
   "outputs": [],
   "source": [
    "transform_hockey_fights = VideoTransform(dataset=\"HockeyFights\", json_file=\"test.json\")\n",
    "dataset_hockey_fights = VideoDataset(\n",
    "    dataset=\"HockeyFights\", transformations=transform_hockey_fights\n",
    ")\n",
    "dataloader_hockey_fights = DataLoader(\n",
    "    dataset=dataset_hockey_fights, batch_size=1, collate_fn=utils.collate_fn_pad\n",
    ")"
   ],
   "metadata": {
    "collapsed": false,
    "ExecuteTime": {
     "end_time": "2024-04-08T17:15:00.888827Z",
     "start_time": "2024-04-08T17:15:00.862327Z"
    }
   },
   "id": "2faa59f6b659c463",
   "execution_count": 4
  },
  {
   "cell_type": "code",
   "outputs": [],
   "source": [
    "transform_rwf = VideoTransform(dataset=\"RWF-2000\", json_file=\"test.json\")\n",
    "dataset_rwf = VideoDataset(dataset=\"RWF-2000\", transformations=transform_rwf)\n",
    "dataloader_rwf = DataLoader(\n",
    "    dataset=dataset_rwf, batch_size=1, collate_fn=utils.collate_fn_pad\n",
    ")"
   ],
   "metadata": {
    "collapsed": false,
    "ExecuteTime": {
     "end_time": "2024-04-08T17:15:07.743982Z",
     "start_time": "2024-04-08T17:15:07.715183Z"
    }
   },
   "id": "7023a8749eb194d8",
   "execution_count": 5
  },
  {
   "cell_type": "code",
   "outputs": [],
   "source": [
    "transform_fight_surv = VideoTransform(\n",
    "    dataset=\"Fight-Surveillance\", json_file=\"test.json\"\n",
    ")\n",
    "dataset_fight_surv = VideoDataset(\n",
    "    dataset=\"Fight-Surveillance\", transformations=transform_rwf\n",
    ")\n",
    "dataloader_fight_surv = DataLoader(\n",
    "    dataset=dataset_fight_surv, batch_size=1, collate_fn=utils.collate_fn_pad\n",
    ")"
   ],
   "metadata": {
    "collapsed": false,
    "ExecuteTime": {
     "end_time": "2024-04-08T17:15:09.301149Z",
     "start_time": "2024-04-08T17:15:09.275323Z"
    }
   },
   "id": "9f4326f5fab3a9ac",
   "execution_count": 6
  },
  {
   "cell_type": "markdown",
   "source": [
    "Testing the VideoDataset and VideoTransform classes:\n",
    "<br>\n",
    "1. Test the videos and their label to match."
   ],
   "metadata": {
    "collapsed": false
   },
   "id": "addfdddd7d717c49"
  },
  {
   "cell_type": "code",
   "outputs": [
    {
     "name": "stdout",
     "output_type": "stream",
     "text": [
      "Dataset train: HockeyFights\n"
     ]
    },
    {
     "ename": "TypeError",
     "evalue": "'Image' object is not iterable",
     "output_type": "error",
     "traceback": [
      "\u001B[0;31m---------------------------------------------------------------------------\u001B[0m",
      "\u001B[0;31mTypeError\u001B[0m                                 Traceback (most recent call last)",
      "Cell \u001B[0;32mIn[21], line 8\u001B[0m\n\u001B[1;32m      1\u001B[0m \u001B[38;5;28;01mfor\u001B[39;00m dataset, dataloader \u001B[38;5;129;01min\u001B[39;00m [\n\u001B[1;32m      2\u001B[0m     [dataset_hockey_fights, dataloader_hockey_fights],\n\u001B[1;32m      3\u001B[0m     [dataset_fight_surv, dataloader_fight_surv],\n\u001B[1;32m      4\u001B[0m     [dataset_rwf, dataloader_rwf],\n\u001B[1;32m      5\u001B[0m ]:\n\u001B[1;32m      6\u001B[0m     \u001B[38;5;28mprint\u001B[39m(\u001B[38;5;124m\"\u001B[39m\u001B[38;5;124mDataset train:\u001B[39m\u001B[38;5;124m\"\u001B[39m, dataset\u001B[38;5;241m.\u001B[39mdataset)\n\u001B[0;32m----> 8\u001B[0m \u001B[43m    \u001B[49m\u001B[38;5;28;43;01mfor\u001B[39;49;00m\u001B[43m \u001B[49m\u001B[43mi\u001B[49m\u001B[43m,\u001B[49m\u001B[43m \u001B[49m\u001B[43mbatch\u001B[49m\u001B[43m \u001B[49m\u001B[38;5;129;43;01min\u001B[39;49;00m\u001B[43m \u001B[49m\u001B[38;5;28;43menumerate\u001B[39;49m\u001B[43m(\u001B[49m\u001B[43mdataloader\u001B[49m\u001B[43m)\u001B[49m\u001B[43m:\u001B[49m\n\u001B[1;32m      9\u001B[0m \u001B[43m        \u001B[49m\u001B[43mvideo\u001B[49m\u001B[43m,\u001B[49m\u001B[43m \u001B[49m\u001B[43mlabel\u001B[49m\u001B[43m,\u001B[49m\u001B[43m \u001B[49m\u001B[43m_\u001B[49m\u001B[43m \u001B[49m\u001B[38;5;241;43m=\u001B[39;49m\u001B[43m \u001B[49m\u001B[43mbatch\u001B[49m\n\u001B[1;32m     10\u001B[0m \u001B[43m        \u001B[49m\u001B[38;5;28;43mprint\u001B[39;49m\u001B[43m(\u001B[49m\u001B[38;5;28;43mtype\u001B[39;49m\u001B[43m(\u001B[49m\u001B[43mvideo\u001B[49m\u001B[43m)\u001B[49m\u001B[43m)\u001B[49m\n",
      "File \u001B[0;32m~/Documents/Licenta/Thesis-Project/Thesis-Project/venv/lib64/python3.12/site-packages/torch/utils/data/dataloader.py:631\u001B[0m, in \u001B[0;36m_BaseDataLoaderIter.__next__\u001B[0;34m(self)\u001B[0m\n\u001B[1;32m    628\u001B[0m \u001B[38;5;28;01mif\u001B[39;00m \u001B[38;5;28mself\u001B[39m\u001B[38;5;241m.\u001B[39m_sampler_iter \u001B[38;5;129;01mis\u001B[39;00m \u001B[38;5;28;01mNone\u001B[39;00m:\n\u001B[1;32m    629\u001B[0m     \u001B[38;5;66;03m# TODO(https://github.com/pytorch/pytorch/issues/76750)\u001B[39;00m\n\u001B[1;32m    630\u001B[0m     \u001B[38;5;28mself\u001B[39m\u001B[38;5;241m.\u001B[39m_reset()  \u001B[38;5;66;03m# type: ignore[call-arg]\u001B[39;00m\n\u001B[0;32m--> 631\u001B[0m data \u001B[38;5;241m=\u001B[39m \u001B[38;5;28;43mself\u001B[39;49m\u001B[38;5;241;43m.\u001B[39;49m\u001B[43m_next_data\u001B[49m\u001B[43m(\u001B[49m\u001B[43m)\u001B[49m\n\u001B[1;32m    632\u001B[0m \u001B[38;5;28mself\u001B[39m\u001B[38;5;241m.\u001B[39m_num_yielded \u001B[38;5;241m+\u001B[39m\u001B[38;5;241m=\u001B[39m \u001B[38;5;241m1\u001B[39m\n\u001B[1;32m    633\u001B[0m \u001B[38;5;28;01mif\u001B[39;00m \u001B[38;5;28mself\u001B[39m\u001B[38;5;241m.\u001B[39m_dataset_kind \u001B[38;5;241m==\u001B[39m _DatasetKind\u001B[38;5;241m.\u001B[39mIterable \u001B[38;5;129;01mand\u001B[39;00m \\\n\u001B[1;32m    634\u001B[0m         \u001B[38;5;28mself\u001B[39m\u001B[38;5;241m.\u001B[39m_IterableDataset_len_called \u001B[38;5;129;01mis\u001B[39;00m \u001B[38;5;129;01mnot\u001B[39;00m \u001B[38;5;28;01mNone\u001B[39;00m \u001B[38;5;129;01mand\u001B[39;00m \\\n\u001B[1;32m    635\u001B[0m         \u001B[38;5;28mself\u001B[39m\u001B[38;5;241m.\u001B[39m_num_yielded \u001B[38;5;241m>\u001B[39m \u001B[38;5;28mself\u001B[39m\u001B[38;5;241m.\u001B[39m_IterableDataset_len_called:\n",
      "File \u001B[0;32m~/Documents/Licenta/Thesis-Project/Thesis-Project/venv/lib64/python3.12/site-packages/torch/utils/data/dataloader.py:675\u001B[0m, in \u001B[0;36m_SingleProcessDataLoaderIter._next_data\u001B[0;34m(self)\u001B[0m\n\u001B[1;32m    673\u001B[0m \u001B[38;5;28;01mdef\u001B[39;00m \u001B[38;5;21m_next_data\u001B[39m(\u001B[38;5;28mself\u001B[39m):\n\u001B[1;32m    674\u001B[0m     index \u001B[38;5;241m=\u001B[39m \u001B[38;5;28mself\u001B[39m\u001B[38;5;241m.\u001B[39m_next_index()  \u001B[38;5;66;03m# may raise StopIteration\u001B[39;00m\n\u001B[0;32m--> 675\u001B[0m     data \u001B[38;5;241m=\u001B[39m \u001B[38;5;28;43mself\u001B[39;49m\u001B[38;5;241;43m.\u001B[39;49m\u001B[43m_dataset_fetcher\u001B[49m\u001B[38;5;241;43m.\u001B[39;49m\u001B[43mfetch\u001B[49m\u001B[43m(\u001B[49m\u001B[43mindex\u001B[49m\u001B[43m)\u001B[49m  \u001B[38;5;66;03m# may raise StopIteration\u001B[39;00m\n\u001B[1;32m    676\u001B[0m     \u001B[38;5;28;01mif\u001B[39;00m \u001B[38;5;28mself\u001B[39m\u001B[38;5;241m.\u001B[39m_pin_memory:\n\u001B[1;32m    677\u001B[0m         data \u001B[38;5;241m=\u001B[39m _utils\u001B[38;5;241m.\u001B[39mpin_memory\u001B[38;5;241m.\u001B[39mpin_memory(data, \u001B[38;5;28mself\u001B[39m\u001B[38;5;241m.\u001B[39m_pin_memory_device)\n",
      "File \u001B[0;32m~/Documents/Licenta/Thesis-Project/Thesis-Project/venv/lib64/python3.12/site-packages/torch/utils/data/_utils/fetch.py:51\u001B[0m, in \u001B[0;36m_MapDatasetFetcher.fetch\u001B[0;34m(self, possibly_batched_index)\u001B[0m\n\u001B[1;32m     49\u001B[0m         data \u001B[38;5;241m=\u001B[39m \u001B[38;5;28mself\u001B[39m\u001B[38;5;241m.\u001B[39mdataset\u001B[38;5;241m.\u001B[39m__getitems__(possibly_batched_index)\n\u001B[1;32m     50\u001B[0m     \u001B[38;5;28;01melse\u001B[39;00m:\n\u001B[0;32m---> 51\u001B[0m         data \u001B[38;5;241m=\u001B[39m [\u001B[38;5;28;43mself\u001B[39;49m\u001B[38;5;241;43m.\u001B[39;49m\u001B[43mdataset\u001B[49m\u001B[43m[\u001B[49m\u001B[43midx\u001B[49m\u001B[43m]\u001B[49m \u001B[38;5;28;01mfor\u001B[39;00m idx \u001B[38;5;129;01min\u001B[39;00m possibly_batched_index]\n\u001B[1;32m     52\u001B[0m \u001B[38;5;28;01melse\u001B[39;00m:\n\u001B[1;32m     53\u001B[0m     data \u001B[38;5;241m=\u001B[39m \u001B[38;5;28mself\u001B[39m\u001B[38;5;241m.\u001B[39mdataset[possibly_batched_index]\n",
      "File \u001B[0;32m~/Documents/Licenta/Thesis-Project/Thesis-Project/data_handling/video_dataset.py:88\u001B[0m, in \u001B[0;36mVideoDataset.__getitem__\u001B[0;34m(self, idx)\u001B[0m\n\u001B[1;32m     86\u001B[0m     frames \u001B[38;5;241m=\u001B[39m \u001B[38;5;28mself\u001B[39m\u001B[38;5;241m.\u001B[39m_transforms(frames)\n\u001B[1;32m     87\u001B[0m \u001B[38;5;28;01melse\u001B[39;00m:\n\u001B[0;32m---> 88\u001B[0m     frames \u001B[38;5;241m=\u001B[39m torch\u001B[38;5;241m.\u001B[39mstack([\u001B[38;5;28;43mself\u001B[39;49m\u001B[38;5;241;43m.\u001B[39;49m\u001B[43m_transforms\u001B[49m\u001B[43m(\u001B[49m\u001B[43mframe\u001B[49m\u001B[43m)\u001B[49m \u001B[38;5;28;01mfor\u001B[39;00m frame \u001B[38;5;129;01min\u001B[39;00m frames])\n\u001B[1;32m     89\u001B[0m label \u001B[38;5;241m=\u001B[39m torch\u001B[38;5;241m.\u001B[39mtensor(label)\n\u001B[1;32m     91\u001B[0m \u001B[38;5;28;01mreturn\u001B[39;00m frames, label\n",
      "File \u001B[0;32m~/Documents/Licenta/Thesis-Project/Thesis-Project/data_handling/data_augmentation.py:63\u001B[0m, in \u001B[0;36mVideoTransform.__call__\u001B[0;34m(self, frames)\u001B[0m\n\u001B[1;32m     60\u001B[0m state \u001B[38;5;241m=\u001B[39m torch\u001B[38;5;241m.\u001B[39mget_rng_state()\n\u001B[1;32m     62\u001B[0m transformed_frames \u001B[38;5;241m=\u001B[39m []\n\u001B[0;32m---> 63\u001B[0m \u001B[43m\u001B[49m\u001B[38;5;28;43;01mfor\u001B[39;49;00m\u001B[43m \u001B[49m\u001B[43mframe\u001B[49m\u001B[43m \u001B[49m\u001B[38;5;129;43;01min\u001B[39;49;00m\u001B[43m \u001B[49m\u001B[43mframes\u001B[49m\u001B[43m:\u001B[49m\n\u001B[1;32m     64\u001B[0m \u001B[43m    \u001B[49m\u001B[38;5;66;43;03m# reset state each time\u001B[39;49;00m\n\u001B[1;32m     65\u001B[0m \u001B[43m    \u001B[49m\u001B[43mtorch\u001B[49m\u001B[38;5;241;43m.\u001B[39;49m\u001B[43mset_rng_state\u001B[49m\u001B[43m(\u001B[49m\u001B[43mstate\u001B[49m\u001B[43m)\u001B[49m\n\u001B[1;32m     66\u001B[0m \u001B[43m    \u001B[49m\u001B[43mtransformed_frame\u001B[49m\u001B[43m \u001B[49m\u001B[38;5;241;43m=\u001B[39;49m\u001B[43m \u001B[49m\u001B[38;5;28;43mself\u001B[39;49m\u001B[38;5;241;43m.\u001B[39;49m\u001B[43m_transforms\u001B[49m\u001B[43m(\u001B[49m\u001B[43mframe\u001B[49m\u001B[43m)\u001B[49m\n",
      "\u001B[0;31mTypeError\u001B[0m: 'Image' object is not iterable"
     ]
    }
   ],
   "source": [
    "for dataset, dataloader in [\n",
    "    [dataset_hockey_fights, dataloader_hockey_fights],\n",
    "    [dataset_fight_surv, dataloader_fight_surv],\n",
    "    [dataset_rwf, dataloader_rwf],\n",
    "]:\n",
    "    print(\"Dataset train:\", dataset.dataset)\n",
    "\n",
    "    for i, batch in enumerate(dataloader):\n",
    "        video, label, _ = batch\n",
    "        print(type(video))\n",
    "        if label:\n",
    "            assert dataset._fight_folder_path.joinpath(dataset._train[i][0]).exists()\n",
    "        else:\n",
    "\n",
    "            assert dataset._non_fight_folder_path.joinpath(\n",
    "                dataset._train[i][0]\n",
    "            ).exists()\n",
    "\n",
    "    dataset.flag = True\n",
    "    print(\"Dataset val:\", dataset.dataset)\n",
    "\n",
    "    for i, batch in enumerate(dataloader):\n",
    "        video, label, _ = batch\n",
    "        if label:\n",
    "            assert dataset._fight_folder_path.joinpath(dataset._val[i][0]).exists()\n",
    "        else:\n",
    "            assert dataset._non_fight_folder_path.joinpath(dataset._val[i][0]).exists()"
   ],
   "metadata": {
    "collapsed": false,
    "ExecuteTime": {
     "end_time": "2024-04-08T17:23:34.441444Z",
     "start_time": "2024-04-08T17:23:34.371614Z"
    }
   },
   "id": "a542b568879445c6",
   "execution_count": 21
  },
  {
   "cell_type": "markdown",
   "source": [
    "2. Play the videos to check the rendering of the data together with the transforms."
   ],
   "metadata": {
    "collapsed": false
   },
   "id": "45b1ccc66241fec3"
  },
  {
   "cell_type": "code",
   "outputs": [
    {
     "ename": "TypeError",
     "evalue": "'Image' object is not iterable",
     "output_type": "error",
     "traceback": [
      "\u001B[0;31m---------------------------------------------------------------------------\u001B[0m",
      "\u001B[0;31mTypeError\u001B[0m                                 Traceback (most recent call last)",
      "Cell \u001B[0;32mIn[7], line 8\u001B[0m\n\u001B[1;32m      3\u001B[0m \u001B[38;5;66;03m#! removed from code normalization to visualize the data\u001B[39;00m\n\u001B[1;32m      4\u001B[0m \n\u001B[1;32m      5\u001B[0m \u001B[38;5;66;03m# give 3 examples for each dataset\u001B[39;00m\n\u001B[1;32m      6\u001B[0m \u001B[38;5;28;01mfor\u001B[39;00m dataloader \u001B[38;5;129;01min\u001B[39;00m [dataloader_rwf, dataloader_hockey_fights, dataloader_fight_surv]:\n\u001B[0;32m----> 8\u001B[0m \u001B[43m    \u001B[49m\u001B[38;5;28;43;01mfor\u001B[39;49;00m\u001B[43m \u001B[49m\u001B[43mi\u001B[49m\u001B[43m,\u001B[49m\u001B[43m \u001B[49m\u001B[43mbatch\u001B[49m\u001B[43m \u001B[49m\u001B[38;5;129;43;01min\u001B[39;49;00m\u001B[43m \u001B[49m\u001B[38;5;28;43menumerate\u001B[39;49m\u001B[43m(\u001B[49m\u001B[43mdataloader\u001B[49m\u001B[43m)\u001B[49m\u001B[43m:\u001B[49m\n\u001B[1;32m      9\u001B[0m \u001B[43m        \u001B[49m\u001B[43mfig\u001B[49m\u001B[43m,\u001B[49m\u001B[43m \u001B[49m\u001B[43max\u001B[49m\u001B[43m \u001B[49m\u001B[38;5;241;43m=\u001B[39;49m\u001B[43m \u001B[49m\u001B[43mplt\u001B[49m\u001B[38;5;241;43m.\u001B[39;49m\u001B[43msubplots\u001B[49m\u001B[43m(\u001B[49m\u001B[43mfigsize\u001B[49m\u001B[38;5;241;43m=\u001B[39;49m\u001B[43m(\u001B[49m\u001B[38;5;241;43m3\u001B[39;49m\u001B[43m,\u001B[49m\u001B[43m \u001B[49m\u001B[38;5;241;43m3\u001B[39;49m\u001B[43m)\u001B[49m\u001B[43m)\u001B[49m\n\u001B[1;32m     10\u001B[0m \u001B[43m        \u001B[49m\u001B[43mframes\u001B[49m\u001B[43m \u001B[49m\u001B[38;5;241;43m=\u001B[39;49m\u001B[43m \u001B[49m\u001B[43mbatch\u001B[49m\u001B[43m[\u001B[49m\u001B[38;5;241;43m0\u001B[39;49m\u001B[43m]\u001B[49m\u001B[43m[\u001B[49m\u001B[38;5;241;43m0\u001B[39;49m\u001B[43m]\u001B[49m\u001B[38;5;241;43m.\u001B[39;49m\u001B[43mpermute\u001B[49m\u001B[43m(\u001B[49m\u001B[38;5;241;43m0\u001B[39;49m\u001B[43m,\u001B[49m\u001B[43m \u001B[49m\u001B[38;5;241;43m2\u001B[39;49m\u001B[43m,\u001B[49m\u001B[43m \u001B[49m\u001B[38;5;241;43m3\u001B[39;49m\u001B[43m,\u001B[49m\u001B[43m \u001B[49m\u001B[38;5;241;43m1\u001B[39;49m\u001B[43m)\u001B[49m\n",
      "File \u001B[0;32m~/Documents/Licenta/Thesis-Project/Thesis-Project/venv/lib64/python3.12/site-packages/torch/utils/data/dataloader.py:631\u001B[0m, in \u001B[0;36m_BaseDataLoaderIter.__next__\u001B[0;34m(self)\u001B[0m\n\u001B[1;32m    628\u001B[0m \u001B[38;5;28;01mif\u001B[39;00m \u001B[38;5;28mself\u001B[39m\u001B[38;5;241m.\u001B[39m_sampler_iter \u001B[38;5;129;01mis\u001B[39;00m \u001B[38;5;28;01mNone\u001B[39;00m:\n\u001B[1;32m    629\u001B[0m     \u001B[38;5;66;03m# TODO(https://github.com/pytorch/pytorch/issues/76750)\u001B[39;00m\n\u001B[1;32m    630\u001B[0m     \u001B[38;5;28mself\u001B[39m\u001B[38;5;241m.\u001B[39m_reset()  \u001B[38;5;66;03m# type: ignore[call-arg]\u001B[39;00m\n\u001B[0;32m--> 631\u001B[0m data \u001B[38;5;241m=\u001B[39m \u001B[38;5;28;43mself\u001B[39;49m\u001B[38;5;241;43m.\u001B[39;49m\u001B[43m_next_data\u001B[49m\u001B[43m(\u001B[49m\u001B[43m)\u001B[49m\n\u001B[1;32m    632\u001B[0m \u001B[38;5;28mself\u001B[39m\u001B[38;5;241m.\u001B[39m_num_yielded \u001B[38;5;241m+\u001B[39m\u001B[38;5;241m=\u001B[39m \u001B[38;5;241m1\u001B[39m\n\u001B[1;32m    633\u001B[0m \u001B[38;5;28;01mif\u001B[39;00m \u001B[38;5;28mself\u001B[39m\u001B[38;5;241m.\u001B[39m_dataset_kind \u001B[38;5;241m==\u001B[39m _DatasetKind\u001B[38;5;241m.\u001B[39mIterable \u001B[38;5;129;01mand\u001B[39;00m \\\n\u001B[1;32m    634\u001B[0m         \u001B[38;5;28mself\u001B[39m\u001B[38;5;241m.\u001B[39m_IterableDataset_len_called \u001B[38;5;129;01mis\u001B[39;00m \u001B[38;5;129;01mnot\u001B[39;00m \u001B[38;5;28;01mNone\u001B[39;00m \u001B[38;5;129;01mand\u001B[39;00m \\\n\u001B[1;32m    635\u001B[0m         \u001B[38;5;28mself\u001B[39m\u001B[38;5;241m.\u001B[39m_num_yielded \u001B[38;5;241m>\u001B[39m \u001B[38;5;28mself\u001B[39m\u001B[38;5;241m.\u001B[39m_IterableDataset_len_called:\n",
      "File \u001B[0;32m~/Documents/Licenta/Thesis-Project/Thesis-Project/venv/lib64/python3.12/site-packages/torch/utils/data/dataloader.py:675\u001B[0m, in \u001B[0;36m_SingleProcessDataLoaderIter._next_data\u001B[0;34m(self)\u001B[0m\n\u001B[1;32m    673\u001B[0m \u001B[38;5;28;01mdef\u001B[39;00m \u001B[38;5;21m_next_data\u001B[39m(\u001B[38;5;28mself\u001B[39m):\n\u001B[1;32m    674\u001B[0m     index \u001B[38;5;241m=\u001B[39m \u001B[38;5;28mself\u001B[39m\u001B[38;5;241m.\u001B[39m_next_index()  \u001B[38;5;66;03m# may raise StopIteration\u001B[39;00m\n\u001B[0;32m--> 675\u001B[0m     data \u001B[38;5;241m=\u001B[39m \u001B[38;5;28;43mself\u001B[39;49m\u001B[38;5;241;43m.\u001B[39;49m\u001B[43m_dataset_fetcher\u001B[49m\u001B[38;5;241;43m.\u001B[39;49m\u001B[43mfetch\u001B[49m\u001B[43m(\u001B[49m\u001B[43mindex\u001B[49m\u001B[43m)\u001B[49m  \u001B[38;5;66;03m# may raise StopIteration\u001B[39;00m\n\u001B[1;32m    676\u001B[0m     \u001B[38;5;28;01mif\u001B[39;00m \u001B[38;5;28mself\u001B[39m\u001B[38;5;241m.\u001B[39m_pin_memory:\n\u001B[1;32m    677\u001B[0m         data \u001B[38;5;241m=\u001B[39m _utils\u001B[38;5;241m.\u001B[39mpin_memory\u001B[38;5;241m.\u001B[39mpin_memory(data, \u001B[38;5;28mself\u001B[39m\u001B[38;5;241m.\u001B[39m_pin_memory_device)\n",
      "File \u001B[0;32m~/Documents/Licenta/Thesis-Project/Thesis-Project/venv/lib64/python3.12/site-packages/torch/utils/data/_utils/fetch.py:51\u001B[0m, in \u001B[0;36m_MapDatasetFetcher.fetch\u001B[0;34m(self, possibly_batched_index)\u001B[0m\n\u001B[1;32m     49\u001B[0m         data \u001B[38;5;241m=\u001B[39m \u001B[38;5;28mself\u001B[39m\u001B[38;5;241m.\u001B[39mdataset\u001B[38;5;241m.\u001B[39m__getitems__(possibly_batched_index)\n\u001B[1;32m     50\u001B[0m     \u001B[38;5;28;01melse\u001B[39;00m:\n\u001B[0;32m---> 51\u001B[0m         data \u001B[38;5;241m=\u001B[39m [\u001B[38;5;28;43mself\u001B[39;49m\u001B[38;5;241;43m.\u001B[39;49m\u001B[43mdataset\u001B[49m\u001B[43m[\u001B[49m\u001B[43midx\u001B[49m\u001B[43m]\u001B[49m \u001B[38;5;28;01mfor\u001B[39;00m idx \u001B[38;5;129;01min\u001B[39;00m possibly_batched_index]\n\u001B[1;32m     52\u001B[0m \u001B[38;5;28;01melse\u001B[39;00m:\n\u001B[1;32m     53\u001B[0m     data \u001B[38;5;241m=\u001B[39m \u001B[38;5;28mself\u001B[39m\u001B[38;5;241m.\u001B[39mdataset[possibly_batched_index]\n",
      "File \u001B[0;32m~/Documents/Licenta/Thesis-Project/Thesis-Project/data_handling/video_dataset.py:88\u001B[0m, in \u001B[0;36mVideoDataset.__getitem__\u001B[0;34m(self, idx)\u001B[0m\n\u001B[1;32m     86\u001B[0m     frames \u001B[38;5;241m=\u001B[39m \u001B[38;5;28mself\u001B[39m\u001B[38;5;241m.\u001B[39m_transforms(frames)\n\u001B[1;32m     87\u001B[0m \u001B[38;5;28;01melse\u001B[39;00m:\n\u001B[0;32m---> 88\u001B[0m     frames \u001B[38;5;241m=\u001B[39m torch\u001B[38;5;241m.\u001B[39mstack([\u001B[38;5;28;43mself\u001B[39;49m\u001B[38;5;241;43m.\u001B[39;49m\u001B[43m_transforms\u001B[49m\u001B[43m(\u001B[49m\u001B[43mframe\u001B[49m\u001B[43m)\u001B[49m \u001B[38;5;28;01mfor\u001B[39;00m frame \u001B[38;5;129;01min\u001B[39;00m frames])\n\u001B[1;32m     89\u001B[0m label \u001B[38;5;241m=\u001B[39m torch\u001B[38;5;241m.\u001B[39mtensor(label)\n\u001B[1;32m     91\u001B[0m \u001B[38;5;28;01mreturn\u001B[39;00m frames, label\n",
      "File \u001B[0;32m~/Documents/Licenta/Thesis-Project/Thesis-Project/data_handling/data_augmentation.py:63\u001B[0m, in \u001B[0;36mVideoTransform.__call__\u001B[0;34m(self, frames)\u001B[0m\n\u001B[1;32m     60\u001B[0m state \u001B[38;5;241m=\u001B[39m torch\u001B[38;5;241m.\u001B[39mget_rng_state()\n\u001B[1;32m     62\u001B[0m transformed_frames \u001B[38;5;241m=\u001B[39m []\n\u001B[0;32m---> 63\u001B[0m \u001B[43m\u001B[49m\u001B[38;5;28;43;01mfor\u001B[39;49;00m\u001B[43m \u001B[49m\u001B[43mframe\u001B[49m\u001B[43m \u001B[49m\u001B[38;5;129;43;01min\u001B[39;49;00m\u001B[43m \u001B[49m\u001B[43mframes\u001B[49m\u001B[43m:\u001B[49m\n\u001B[1;32m     64\u001B[0m \u001B[43m    \u001B[49m\u001B[38;5;66;43;03m# reset state each time\u001B[39;49;00m\n\u001B[1;32m     65\u001B[0m \u001B[43m    \u001B[49m\u001B[43mtorch\u001B[49m\u001B[38;5;241;43m.\u001B[39;49m\u001B[43mset_rng_state\u001B[49m\u001B[43m(\u001B[49m\u001B[43mstate\u001B[49m\u001B[43m)\u001B[49m\n\u001B[1;32m     66\u001B[0m \u001B[43m    \u001B[49m\u001B[43mtransformed_frame\u001B[49m\u001B[43m \u001B[49m\u001B[38;5;241;43m=\u001B[39;49m\u001B[43m \u001B[49m\u001B[38;5;28;43mself\u001B[39;49m\u001B[38;5;241;43m.\u001B[39;49m\u001B[43m_transforms\u001B[49m\u001B[43m(\u001B[49m\u001B[43mframe\u001B[49m\u001B[43m)\u001B[49m\n",
      "\u001B[0;31mTypeError\u001B[0m: 'Image' object is not iterable"
     ]
    }
   ],
   "source": [
    "animations_html = []\n",
    "\n",
    "#! removed from code normalization to visualize the data\n",
    "\n",
    "# give 3 examples for each dataset\n",
    "for dataloader in [dataloader_rwf, dataloader_hockey_fights, dataloader_fight_surv]:\n",
    "\n",
    "    for i, batch in enumerate(dataloader):\n",
    "        fig, ax = plt.subplots(figsize=(3, 3))\n",
    "        frames = batch[0][0].permute(0, 2, 3, 1)\n",
    "\n",
    "        # define an animation to play th video\n",
    "        def animate(frame):\n",
    "            ax.clear()\n",
    "            ax.imshow(frame.float().clamp(0, 1))\n",
    "            ax.axis(\"off\")\n",
    "\n",
    "        ani = animation.FuncAnimation(fig, animate, frames=frames, interval=30)\n",
    "        animations_html.append(ani.to_jshtml())\n",
    "        plt.close(fig)\n",
    "\n",
    "        break\n",
    "\n",
    "# create columns for output trough html\n",
    "html_output = '<div style=\"display: flex; flex-wrap: wrap;\">'\n",
    "for animation_html in animations_html:\n",
    "    html_output += f'<div style=\"width: 30%;\">{animation_html}</div>'\n",
    "html_output += \"</div>\"\n",
    "\n",
    "display(HTML(html_output))"
   ],
   "metadata": {
    "collapsed": false,
    "ExecuteTime": {
     "end_time": "2024-04-08T17:15:15.660821Z",
     "start_time": "2024-04-08T17:15:14.568369Z"
    }
   },
   "id": "f78b9df252a6b688",
   "execution_count": 7
  },
  {
   "cell_type": "markdown",
   "source": [
    "3. Test loading and dumping the augmentation values form VideoTransform."
   ],
   "metadata": {
    "collapsed": false
   },
   "id": "f4c0b1bc21fa27a0"
  },
  {
   "cell_type": "code",
   "outputs": [
    {
     "name": "stdout",
     "output_type": "stream",
     "text": [
      "Assertion passed\n"
     ]
    }
   ],
   "source": [
    "with open(\"test.json\", mode=\"r\") as file:\n",
    "    aug_val = json.load(file)[\"RWF-2000\"]\n",
    "\n",
    "# modified test.json with another value (360, 360) for testing\n",
    "aug_val[\"resize\"] = [255, 255]\n",
    "transform_rwf.save(aug_val, dump=True)\n",
    "aug_val_class = transform_rwf.json(load=True)\n",
    "assert aug_val_class == aug_val\n",
    "\n",
    "aug_val[\"resize\"] = [3, 3]\n",
    "transform_rwf.save(aug_val, dump=False)\n",
    "aug_val_class = transform_rwf.json()\n",
    "assert aug_val_class == aug_val\n",
    "\n",
    "aug_val_class = transform_rwf.json(load=True)\n",
    "assert aug_val_class != aug_val\n",
    "\n",
    "try:\n",
    "    aug_val[\"new\"] = \"identity\"\n",
    "    transform_rwf.save(aug_val)\n",
    "except ValueError as e:\n",
    "    assert str(e) == \"Dictionary doesn't match the required structure.\"\n",
    "\n",
    "print(\"Assertion passed\")"
   ],
   "metadata": {
    "collapsed": false
   },
   "id": "a5707a3336135cc7",
   "execution_count": 9
  },
  {
   "cell_type": "markdown",
   "source": [
    "4. Check the normalization of data."
   ],
   "metadata": {
    "collapsed": false
   },
   "id": "5e3abc1176c4961c"
  },
  {
   "cell_type": "code",
   "outputs": [],
   "source": [
    "torch.cuda.empty_cache()\n",
    "\n",
    "# same transforms from VideoDataset but with normalization applied\n",
    "transform_rwf = v2.Compose(\n",
    "    [\n",
    "        config.BASIC_TRANSFORMS,\n",
    "        v2.Normalize(mean=[0.3910, 0.3840, 0.3789], std=[0.2617, 0.2609, 0.2615]),\n",
    "    ]\n",
    ")\n",
    "transform_hockey_fights = v2.Compose(\n",
    "    [\n",
    "        config.BASIC_TRANSFORMS,\n",
    "        v2.Normalize(mean=[0.3688, 0.3700, 0.3593], std=[0.3657, 0.3694, 0.3645]),\n",
    "    ]\n",
    ")\n",
    "transform_another_dataset = v2.Compose(\n",
    "    [\n",
    "        config.BASIC_TRANSFORMS,\n",
    "        v2.Normalize(mean=[0.4278, 0.4154, 0.4131], std=[0.2538, 0.2515, 0.2538]),\n",
    "    ]\n",
    ")\n",
    "\n",
    "dataset_rwf = VideoDataset(dataset=\"RWF-2000\", transformations=transform_rwf)\n",
    "dataset_hockey_fights = VideoDataset(\n",
    "    dataset=\"HockeyFights\", transformations=transform_hockey_fights\n",
    ")\n",
    "dataset_fight_surv = VideoDataset(\n",
    "    dataset=\"Fight-Surveillance\", transformations=transform_fight_surv\n",
    ")\n",
    "\n",
    "for dataset in [dataset_rwf, dataset_hockey_fights, dataset_fight_surv]:\n",
    "    mean, std = utils.compute_mean_std(dataset, device)\n",
    "\n",
    "    is_mean_zero = torch.allclose(mean, torch.zeros_like(mean), atol=0.01)\n",
    "    is_std_one = torch.allclose(std, torch.ones_like(std), atol=0.01)\n",
    "\n",
    "    assert is_mean_zero and is_std_one\n",
    "\n",
    "    print(f\"Assert for {dataset.dataset} passed\")"
   ],
   "metadata": {
    "collapsed": false,
    "is_executing": true,
    "ExecuteTime": {
     "start_time": "2024-03-28T23:55:43.303044Z"
    }
   },
   "id": "39adebd85eca5ec",
   "execution_count": null
  },
  {
   "cell_type": "markdown",
   "source": [
    "Computation of mean and std for each of the datasets."
   ],
   "metadata": {
    "collapsed": false
   },
   "id": "db6fed205f6d1137"
  },
  {
   "cell_type": "code",
   "outputs": [],
   "source": [
    "torch.cuda.empty_cache()\n",
    "\n",
    "dataset_hockey_fights = VideoDataset(dataset=\"HockeyFights\")\n",
    "dataset_rwf = VideoDataset(dataset=\"RWF-2000\")\n",
    "dataset_fight_surv = VideoDataset(dataset=\"Fight-Surveillance\")\n",
    "\n",
    "mean, std = utils.compute_mean_std(dataset_hockey_fights, device)\n",
    "print(mean, std)\n",
    "mean, std = utils.compute_mean_std(dataset_rwf, device)\n",
    "print(mean, std)\n",
    "mean, std = utils.compute_mean_std(dataset_fight_surv, device)\n",
    "print(mean, std)\n",
    "\n",
    "# hf\n",
    "# tensor([0.3688, 0.3700, 0.3593], device='cuda:0') tensor([0.3657, 0.3694, 0.3645], device='cuda:0')\n",
    "# rwf\n",
    "# tensor([0.3910, 0.3840, 0.3789], device='cuda:0') tensor([0.2617, 0.2609, 0.2615], device='cuda:0')\n",
    "# fs\n",
    "# tensor([0.4278, 0.4154, 0.4131], device='cuda:0') tensor([0.2538, 0.2515, 0.2538], device='cuda:0')\n",
    "\n",
    "# TODO: see what should be done for 3rd dataset for the variation of length to calc properly the mean and std"
   ],
   "metadata": {
    "collapsed": false,
    "is_executing": true
   },
   "id": "16be15b8d0934791",
   "execution_count": null
  }
 ],
 "metadata": {
  "kernelspec": {
   "display_name": "Python 3",
   "language": "python",
   "name": "python3"
  },
  "language_info": {
   "codemirror_mode": {
    "name": "ipython",
    "version": 2
   },
   "file_extension": ".py",
   "mimetype": "text/x-python",
   "name": "python",
   "nbconvert_exporter": "python",
   "pygments_lexer": "ipython2",
   "version": "2.7.6"
  }
 },
 "nbformat": 4,
 "nbformat_minor": 5
}
