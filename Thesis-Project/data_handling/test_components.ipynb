{
 "cells": [
  {
   "cell_type": "code",
   "outputs": [],
   "source": [
    "%load_ext autoreload\n",
    "%load_ext my_magics\n",
    "%autoreload 2\n",
    "%matplotlib inline"
   ],
   "metadata": {
    "collapsed": false,
    "is_executing": true
   },
   "id": "1488b1fe7829ef69",
   "execution_count": null
  },
  {
   "cell_type": "code",
   "execution_count": 2,
   "id": "initial_id",
   "metadata": {
    "collapsed": true,
    "ExecuteTime": {
     "end_time": "2024-03-28T22:59:11.162844Z",
     "start_time": "2024-03-28T22:59:08.728674Z"
    }
   },
   "outputs": [],
   "source": [
    "# %%isortify\n",
    "import json\n",
    "\n",
    "import config\n",
    "import matplotlib.pyplot as plt\n",
    "import torch\n",
    "import utils\n",
    "from IPython.display import HTML, display\n",
    "from matplotlib import animation\n",
    "from torch.utils.data import DataLoader\n",
    "from torchvision.transforms import v2\n",
    "\n",
    "from data_augmentation import VideoTransform\n",
    "from video_dataset import VideoDataset"
   ]
  },
  {
   "cell_type": "code",
   "outputs": [],
   "source": [
    "device = \"cuda\" if torch.cuda.is_available() else \"cpu\""
   ],
   "metadata": {
    "collapsed": false,
    "ExecuteTime": {
     "end_time": "2024-03-28T22:59:11.208635Z",
     "start_time": "2024-03-28T22:59:11.163782Z"
    }
   },
   "id": "1e6855f5b9a499bd",
   "execution_count": 3
  },
  {
   "cell_type": "markdown",
   "source": [
    "Load the transforms, datasets and dataloaders for each of the databases."
   ],
   "metadata": {
    "collapsed": false
   },
   "id": "79df8a031ccfa4c1"
  },
  {
   "cell_type": "code",
   "outputs": [],
   "source": [
    "transform_hockey_fights = VideoTransform(dataset=\"HockeyFights\", json_file=\"test.json\")\n",
    "dataset_hockey_fights = VideoDataset(\n",
    "    dataset=\"HockeyFights\", transformations=transform_hockey_fights\n",
    ")\n",
    "dataloader_hockey_fights = DataLoader(\n",
    "    dataset=dataset_hockey_fights, batch_size=1, collate_fn=utils.collate_fn_pad\n",
    ")"
   ],
   "metadata": {
    "collapsed": false,
    "ExecuteTime": {
     "end_time": "2024-03-28T22:59:11.242996Z",
     "start_time": "2024-03-28T22:59:11.209526Z"
    }
   },
   "id": "2faa59f6b659c463",
   "execution_count": 4
  },
  {
   "cell_type": "code",
   "outputs": [],
   "source": [
    "transform_rwf = VideoTransform(dataset=\"RWF-2000\", json_file=\"test.json\")\n",
    "dataset_rwf = VideoDataset(dataset=\"RWF-2000\", transformations=transform_rwf)\n",
    "dataloader_rwf = DataLoader(\n",
    "    dataset=dataset_rwf, batch_size=1, collate_fn=utils.collate_fn_pad\n",
    ")"
   ],
   "metadata": {
    "collapsed": false,
    "ExecuteTime": {
     "end_time": "2024-03-28T22:59:11.284814Z",
     "start_time": "2024-03-28T22:59:11.245233Z"
    }
   },
   "id": "7023a8749eb194d8",
   "execution_count": 5
  },
  {
   "cell_type": "code",
   "outputs": [],
   "source": [
    "transform_fight_surv = VideoTransform(\n",
    "    dataset=\"Fight-Surveillance\", json_file=\"test.json\"\n",
    ")\n",
    "dataset_fight_surv = VideoDataset(\n",
    "    dataset=\"Fight-Surveillance\", transformations=transform_rwf\n",
    ")\n",
    "dataloader_fight_surv = DataLoader(\n",
    "    dataset=dataset_fight_surv, batch_size=1, collate_fn=utils.collate_fn_pad\n",
    ")"
   ],
   "metadata": {
    "collapsed": false,
    "ExecuteTime": {
     "end_time": "2024-03-28T22:59:11.315057Z",
     "start_time": "2024-03-28T22:59:11.285962Z"
    }
   },
   "id": "9f4326f5fab3a9ac",
   "execution_count": 6
  },
  {
   "cell_type": "markdown",
   "source": [
    "Testing the VideoDataset and VideoTransform classes:\n",
    "<br>\n",
    "1. Test the videos and their label to match."
   ],
   "metadata": {
    "collapsed": false
   },
   "id": "addfdddd7d717c49"
  },
  {
   "cell_type": "code",
   "outputs": [
    {
     "name": "stdout",
     "output_type": "stream",
     "text": [
      "Dataset train: HockeyFights\n",
      "Dataset val: HockeyFights\n",
      "Dataset train: Fight-Surveillance\n",
      "Dataset val: Fight-Surveillance\n",
      "Dataset train: RWF-2000\n",
      "Dataset val: RWF-2000\n"
     ]
    }
   ],
   "source": [
    "for dataset, dataloader in [\n",
    "    [dataset_hockey_fights, dataloader_hockey_fights],\n",
    "    [dataset_fight_surv, dataloader_fight_surv],\n",
    "    [dataset_rwf, dataloader_rwf],\n",
    "]:\n",
    "    print(\"Dataset train:\", dataset.dataset)\n",
    "\n",
    "    for i, batch in enumerate(dataloader):\n",
    "        video, label, _, _ = batch\n",
    "        if label:\n",
    "            assert dataset._fight_folder_path.joinpath(dataset._train[i][0]).exists()\n",
    "        else:\n",
    "\n",
    "            assert dataset._non_fight_folder_path.joinpath(\n",
    "                dataset._train[i][0]\n",
    "            ).exists()\n",
    "\n",
    "    dataset.flag = True\n",
    "    print(\"Dataset val:\", dataset.dataset)\n",
    "\n",
    "    for i, batch in enumerate(dataloader):\n",
    "        video, label, _, _ = batch\n",
    "        if label:\n",
    "            assert dataset._fight_folder_path.joinpath(dataset._val[i][0]).exists()\n",
    "        else:\n",
    "            assert dataset._non_fight_folder_path.joinpath(dataset._val[i][0]).exists()"
   ],
   "metadata": {
    "collapsed": false,
    "ExecuteTime": {
     "end_time": "2024-03-28T23:55:29.465277Z",
     "start_time": "2024-03-28T22:59:11.316146Z"
    }
   },
   "id": "a542b568879445c6",
   "execution_count": 7
  },
  {
   "cell_type": "markdown",
   "source": [
    "2. Play the videos to check the rendering of the data together with the transforms."
   ],
   "metadata": {
    "collapsed": false
   },
   "id": "45b1ccc66241fec3"
  },
  {
   "cell_type": "code",
   "outputs": [],
   "source": [
    "animations_html = []\n",
    "\n",
    "#! removed from code normalization to visualize the data\n",
    "\n",
    "# give 3 examples for each dataset\n",
    "for dataloader in [dataloader_rwf, dataloader_hockey_fights, dataloader_fight_surv]:\n",
    "\n",
    "    for i, batch in enumerate(dataloader):\n",
    "        fig, ax = plt.subplots(figsize=(3, 3))\n",
    "        frames = batch[0][0].permute(0, 2, 3, 1)\n",
    "\n",
    "        # define an animation to play th video\n",
    "        def animate(frame):\n",
    "            ax.clear()\n",
    "            ax.imshow(frame.float().clamp(0, 1))\n",
    "            ax.axis(\"off\")\n",
    "\n",
    "        ani = animation.FuncAnimation(fig, animate, frames=frames, interval=30)\n",
    "        animations_html.append(ani.to_jshtml())\n",
    "        plt.close(fig)\n",
    "\n",
    "        break\n",
    "\n",
    "# create columns for output trough html\n",
    "html_output = '<div style=\"display: flex; flex-wrap: wrap;\">'\n",
    "for animation_html in animations_html:\n",
    "    html_output += f'<div style=\"width: 30%;\">{animation_html}</div>'\n",
    "html_output += \"</div>\"\n",
    "\n",
    "display(HTML(html_output))"
   ],
   "metadata": {
    "collapsed": false
   },
   "id": "f78b9df252a6b688",
   "execution_count": null
  },
  {
   "cell_type": "markdown",
   "source": [
    "3. Test loading and dumping the augmentation values form VideoTransform."
   ],
   "metadata": {
    "collapsed": false
   },
   "id": "f4c0b1bc21fa27a0"
  },
  {
   "cell_type": "code",
   "outputs": [
    {
     "name": "stdout",
     "output_type": "stream",
     "text": [
      "Assertion passed\n"
     ]
    }
   ],
   "source": [
    "with open(\"test.json\", mode=\"r\") as file:\n",
    "    aug_val = json.load(file)[\"RWF-2000\"]\n",
    "\n",
    "# modified test.json with another value (360, 360) for testing\n",
    "aug_val[\"resize\"] = [255, 255]\n",
    "transform_rwf.save(aug_val, dump=True)\n",
    "aug_val_class = transform_rwf.json(load=True)\n",
    "assert aug_val_class == aug_val\n",
    "\n",
    "aug_val[\"resize\"] = [3, 3]\n",
    "transform_rwf.save(aug_val, dump=False)\n",
    "aug_val_class = transform_rwf.json()\n",
    "assert aug_val_class == aug_val\n",
    "\n",
    "aug_val_class = transform_rwf.json(load=True)\n",
    "assert aug_val_class != aug_val\n",
    "\n",
    "try:\n",
    "    aug_val[\"new\"] = \"identity\"\n",
    "    transform_rwf.save(aug_val)\n",
    "except ValueError as e:\n",
    "    assert str(e) == \"Dictionary doesn't match the required structure.\"\n",
    "\n",
    "print(\"Assertion passed\")"
   ],
   "metadata": {
    "collapsed": false
   },
   "id": "a5707a3336135cc7",
   "execution_count": 9
  },
  {
   "cell_type": "markdown",
   "source": [
    "4. Check the normalization of data."
   ],
   "metadata": {
    "collapsed": false
   },
   "id": "5e3abc1176c4961c"
  },
  {
   "cell_type": "code",
   "outputs": [],
   "source": [
    "torch.cuda.empty_cache()\n",
    "\n",
    "# same transforms from VideoDataset but with normalization applied\n",
    "transform_rwf = v2.Compose(\n",
    "    [\n",
    "        config.BASIC_TRANSFORMS,\n",
    "        v2.Normalize(mean=[0.3910, 0.3840, 0.3789], std=[0.2617, 0.2609, 0.2615]),\n",
    "    ]\n",
    ")\n",
    "transform_hockey_fights = v2.Compose(\n",
    "    [\n",
    "        config.BASIC_TRANSFORMS,\n",
    "        v2.Normalize(mean=[0.3688, 0.3700, 0.3593], std=[0.3657, 0.3694, 0.3645]),\n",
    "    ]\n",
    ")\n",
    "transform_another_dataset = v2.Compose(\n",
    "    [\n",
    "        config.BASIC_TRANSFORMS,\n",
    "        v2.Normalize(mean=[0.4278, 0.4154, 0.4131], std=[0.2538, 0.2515, 0.2538]),\n",
    "    ]\n",
    ")\n",
    "\n",
    "dataset_rwf = VideoDataset(dataset=\"RWF-2000\", transformations=transform_rwf)\n",
    "dataset_hockey_fights = VideoDataset(\n",
    "    dataset=\"HockeyFights\", transformations=transform_hockey_fights\n",
    ")\n",
    "dataset_fight_surv = VideoDataset(\n",
    "    dataset=\"Fight-Surveillance\", transformations=transform_fight_surv\n",
    ")\n",
    "\n",
    "for dataset in [dataset_rwf, dataset_hockey_fights, dataset_fight_surv]:\n",
    "    mean, std = utils.compute_mean_std(dataset, device)\n",
    "\n",
    "    is_mean_zero = torch.allclose(mean, torch.zeros_like(mean), atol=0.01)\n",
    "    is_std_one = torch.allclose(std, torch.ones_like(std), atol=0.01)\n",
    "\n",
    "    assert is_mean_zero and is_std_one\n",
    "\n",
    "    print(f\"Assert for {dataset.dataset} passed\")"
   ],
   "metadata": {
    "collapsed": false,
    "is_executing": true,
    "ExecuteTime": {
     "start_time": "2024-03-28T23:55:43.303044Z"
    }
   },
   "id": "39adebd85eca5ec",
   "execution_count": null
  },
  {
   "cell_type": "markdown",
   "source": [
    "Computation of mean and std for each of the datasets."
   ],
   "metadata": {
    "collapsed": false
   },
   "id": "db6fed205f6d1137"
  },
  {
   "cell_type": "code",
   "outputs": [],
   "source": [
    "torch.cuda.empty_cache()\n",
    "\n",
    "dataset_hockey_fights = VideoDataset(dataset=\"HockeyFights\")\n",
    "dataset_rwf = VideoDataset(dataset=\"RWF-2000\")\n",
    "dataset_fight_surv = VideoDataset(dataset=\"Fight-Surveillance\")\n",
    "\n",
    "mean, std = utils.compute_mean_std(dataset_hockey_fights, device)\n",
    "print(mean, std)\n",
    "mean, std = utils.compute_mean_std(dataset_rwf, device)\n",
    "print(mean, std)\n",
    "mean, std = utils.compute_mean_std(dataset_fight_surv, device)\n",
    "print(mean, std)\n",
    "\n",
    "# hf\n",
    "# tensor([0.3688, 0.3700, 0.3593], device='cuda:0') tensor([0.3657, 0.3694, 0.3645], device='cuda:0')\n",
    "# rwf\n",
    "# tensor([0.3910, 0.3840, 0.3789], device='cuda:0') tensor([0.2617, 0.2609, 0.2615], device='cuda:0')\n",
    "# fs\n",
    "# tensor([0.4278, 0.4154, 0.4131], device='cuda:0') tensor([0.2538, 0.2515, 0.2538], device='cuda:0')\n",
    "\n",
    "# TODO: see what should be done for 3rd dataset for the variation of length to calc properly the mean and std"
   ],
   "metadata": {
    "collapsed": false,
    "is_executing": true
   },
   "id": "16be15b8d0934791",
   "execution_count": null
  }
 ],
 "metadata": {
  "kernelspec": {
   "display_name": "Python 3",
   "language": "python",
   "name": "python3"
  },
  "language_info": {
   "codemirror_mode": {
    "name": "ipython",
    "version": 2
   },
   "file_extension": ".py",
   "mimetype": "text/x-python",
   "name": "python",
   "nbconvert_exporter": "python",
   "pygments_lexer": "ipython2",
   "version": "2.7.6"
  }
 },
 "nbformat": 4,
 "nbformat_minor": 5
}
