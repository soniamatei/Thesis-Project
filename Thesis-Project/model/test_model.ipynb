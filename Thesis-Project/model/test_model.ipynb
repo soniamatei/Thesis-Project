{
 "cells": [
  {
   "cell_type": "code",
   "id": "initial_id",
   "metadata": {
    "collapsed": true,
    "ExecuteTime": {
     "end_time": "2024-04-12T13:31:31.772166Z",
     "start_time": "2024-04-12T13:31:31.664163Z"
    }
   },
   "source": [
    "%load_ext autoreload\n",
    "%load_ext my_magics\n",
    "%autoreload 2"
   ],
   "outputs": [
    {
     "name": "stdout",
     "output_type": "stream",
     "text": [
      "The autoreload extension is already loaded. To reload it, use:\n",
      "  %reload_ext autoreload\n",
      "The my_magics extension is already loaded. To reload it, use:\n",
      "  %reload_ext my_magics\n"
     ]
    }
   ],
   "execution_count": 33
  },
  {
   "cell_type": "code",
   "source": [
    "# %%isortify\n",
    "import torch\n",
    "import torch.nn as nn\n",
    "import utils\n",
    "from data_handling.data_augmentation import VideoTransform\n",
    "from data_handling.video_dataset import VideoDataset\n",
    "from torch import optim\n",
    "from torch.utils.data import DataLoader\n",
    "\n",
    "from model.violence_detection_model import ViolenceDetectionModel"
   ],
   "metadata": {
    "collapsed": false,
    "ExecuteTime": {
     "end_time": "2024-04-12T13:59:45.121005Z",
     "start_time": "2024-04-12T13:59:45.031887Z"
    }
   },
   "id": "e3f2c29d9d1cb10b",
   "outputs": [
    {
     "name": "stdout",
     "output_type": "stream",
     "text": [
      "import torch\n",
      "import torch.nn as nn\n",
      "import utils\n",
      "from data_handling.data_augmentation import VideoTransform\n",
      "from data_handling.video_dataset import VideoDataset\n",
      "from torch import optim\n",
      "from torch.utils.data import DataLoader\n",
      "\n",
      "from model.violence_detection_model import ViolenceDetectionModel\n",
      "\n"
     ]
    }
   ],
   "execution_count": 43
  },
  {
   "cell_type": "code",
   "source": [
    "device = \"cuda\" if torch.cuda.is_available() else \"cpu\""
   ],
   "metadata": {
    "collapsed": false,
    "ExecuteTime": {
     "end_time": "2024-04-12T13:31:31.955496Z",
     "start_time": "2024-04-12T13:31:31.864312Z"
    }
   },
   "id": "55bd7da1cbed47e",
   "outputs": [],
   "execution_count": 35
  },
  {
   "cell_type": "markdown",
   "source": [
    "Initialize the model."
   ],
   "metadata": {
    "collapsed": false
   },
   "id": "9815be6cfc73e819"
  },
  {
   "cell_type": "code",
   "source": [
    "vd_model = ViolenceDetectionModel(json_file=\"test.json\")"
   ],
   "metadata": {
    "collapsed": false,
    "ExecuteTime": {
     "end_time": "2024-04-12T13:31:32.461908Z",
     "start_time": "2024-04-12T13:31:31.957495Z"
    }
   },
   "id": "3758b27392cad010",
   "outputs": [],
   "execution_count": 36
  },
  {
   "cell_type": "markdown",
   "source": [
    "Test the input-output of the model."
   ],
   "metadata": {
    "collapsed": false
   },
   "id": "b3a396c42ade2b08"
  },
  {
   "cell_type": "code",
   "source": [
    "vd_model.eval()\n",
    "\n",
    "videos = torch.randn(size=(2, 20, 3, 224, 224))\n",
    "lengths = torch.tensor([20, 20])\n",
    "\n",
    "outputs = vd_model(videos, lengths)\n",
    "\n",
    "# for each video the model outputs a label between (0, 1)\n",
    "assert outputs.size() == (2,)\n",
    "assert all(0 < label < 1 for label in outputs)\n",
    "\n",
    "print(\"Assertion pasted\")"
   ],
   "metadata": {
    "collapsed": false,
    "ExecuteTime": {
     "end_time": "2024-04-12T13:31:33.838261Z",
     "start_time": "2024-04-12T13:31:32.462907Z"
    }
   },
   "id": "2fe73a5b626ae843",
   "outputs": [
    {
     "name": "stdout",
     "output_type": "stream",
     "text": [
      "Assertion pasted\n"
     ]
    }
   ],
   "execution_count": 37
  },
  {
   "cell_type": "markdown",
   "source": [
    "Sanity check for the model: test its capability of memorizing a small dataset -> if the model overfits, it is capable of learning.\n",
    "\n",
    "\n",
    "Check [CS231n Convolutional Neural Networks for Visual Recognition](https://cs231n.github.io/neural-networks-3/#sanitycheck) for more details."
   ],
   "metadata": {
    "collapsed": false
   },
   "id": "e80c70830ca2271c"
  },
  {
   "cell_type": "code",
   "source": [
    "print(device)\n",
    "\n",
    "torch.cuda.empty_cache()\n",
    "torch.cuda.synchronize()\n",
    "\n",
    "vd_model.to(device)\n",
    "vd_model.train()\n",
    "\n",
    "transforms = VideoTransform(dataset=\"HockeyFights\", json_file=\"test.json\")\n",
    "video_dataset = VideoDataset(dataset=\"HockeyFights\", transformations=transforms, val=True, val_size=0.005)\n",
    "data_loader = torch.utils.data.DataLoader(video_dataset, batch_size=5, collate_fn=utils.collate_fn_pad)\n",
    "\n",
    "print(len(video_dataset))\n",
    "\n",
    "criterion = nn.BCELoss()  \n",
    "optimizer = optim.Adam(vd_model.parameters(), lr=0.001)\n",
    "\n",
    "for epoch in range(40):\n",
    "    \n",
    "    cumulating_loss = 0\n",
    "    for batch in data_loader:\n",
    "        videos, labels, lengths = batch \n",
    "        videos, labels = videos.to(device), labels.to(device)\n",
    "        optimizer.zero_grad()\n",
    "        outputs = vd_model(videos, lengths)\n",
    "        loss = criterion(outputs, labels)\n",
    "        loss.backward()\n",
    "        optimizer.step()\n",
    "        \n",
    "        cumulating_loss += loss\n",
    "        \n",
    "    print(f'Epoch {epoch}, Loss: {cumulating_loss / len(data_loader)}')\n"
   ],
   "metadata": {
    "collapsed": false,
    "ExecuteTime": {
     "end_time": "2024-04-12T13:35:53.310694Z",
     "start_time": "2024-04-12T13:31:33.839265Z"
    }
   },
   "id": "32859c02ecbaef1f",
   "outputs": [
    {
     "name": "stdout",
     "output_type": "stream",
     "text": [
      "cuda\n",
      "5\n",
      "Epoch 0, Loss: 0.647121787071228\n",
      "Epoch 1, Loss: 0.47743621468544006\n",
      "Epoch 2, Loss: 0.5441573858261108\n",
      "Epoch 3, Loss: 0.31104370951652527\n",
      "Epoch 4, Loss: 0.2476349174976349\n",
      "Epoch 5, Loss: 0.20075953006744385\n",
      "Epoch 6, Loss: 0.1967557966709137\n",
      "Epoch 7, Loss: 0.20525012910366058\n",
      "Epoch 8, Loss: 0.20786228775978088\n",
      "Epoch 9, Loss: 0.21972322463989258\n",
      "Epoch 10, Loss: 0.13124005496501923\n",
      "Epoch 11, Loss: 0.17894867062568665\n",
      "Epoch 12, Loss: 0.11446704715490341\n",
      "Epoch 13, Loss: 0.14833088219165802\n",
      "Epoch 14, Loss: 0.1063617393374443\n",
      "Epoch 15, Loss: 0.09787426143884659\n",
      "Epoch 16, Loss: 0.08037625253200531\n",
      "Epoch 17, Loss: 0.09254975616931915\n",
      "Epoch 18, Loss: 0.07404042780399323\n",
      "Epoch 19, Loss: 0.07303042709827423\n",
      "Epoch 20, Loss: 0.07046137005090714\n",
      "Epoch 21, Loss: 0.06582558155059814\n",
      "Epoch 22, Loss: 0.08591233193874359\n",
      "Epoch 23, Loss: 0.05824574455618858\n",
      "Epoch 24, Loss: 0.04419877007603645\n",
      "Epoch 25, Loss: 0.03685007616877556\n",
      "Epoch 26, Loss: 0.0395936518907547\n",
      "Epoch 27, Loss: 0.033277351409196854\n",
      "Epoch 28, Loss: 0.056490033864974976\n",
      "Epoch 29, Loss: 0.03155140206217766\n",
      "Epoch 30, Loss: 0.036374155431985855\n",
      "Epoch 31, Loss: 0.03674996644258499\n",
      "Epoch 32, Loss: 0.053034987300634384\n",
      "Epoch 33, Loss: 0.0945969820022583\n",
      "Epoch 34, Loss: 0.047243352979421616\n",
      "Epoch 35, Loss: 0.030484884977340698\n",
      "Epoch 36, Loss: 0.05758477374911308\n",
      "Epoch 37, Loss: 0.03074386715888977\n",
      "Epoch 38, Loss: 0.026507889851927757\n",
      "Epoch 39, Loss: 0.076238252222538\n"
     ]
    }
   ],
   "execution_count": 38
  },
  {
   "cell_type": "code",
   "source": [
    "vd_model.eval()\n",
    "\n",
    "video_dataset.flag = False\n",
    "print(len(video_dataset))\n",
    "for batch in data_loader:\n",
    "    videos, labels, lengths = batch\n",
    "    videos, labels = videos.to(device), labels.to(device)\n",
    "    \n",
    "    outputs = vd_model(videos, lengths)\n",
    "    loss = criterion(outputs, labels)\n",
    "\n",
    "    print(f\"Val: {loss.item()}\")\n",
    "    \n",
    "    break\n",
    "\n",
    "video_dataset.flag = True\n",
    "print(len(video_dataset))\n",
    "for batch in data_loader:\n",
    "    videos, labels, lengths = batch\n",
    "    videos, labels = videos.to(device), labels.to(device)\n",
    "\n",
    "    outputs = vd_model(videos, lengths)\n",
    "    loss = criterion(outputs, labels)\n",
    "\n",
    "    print(f\"Train: {loss.item()}\")\n",
    "\n",
    "    break"
   ],
   "metadata": {
    "collapsed": false,
    "ExecuteTime": {
     "end_time": "2024-04-12T13:42:19.475395Z",
     "start_time": "2024-04-12T13:42:07.217600Z"
    }
   },
   "id": "e5102f11da74fe4",
   "outputs": [
    {
     "name": "stdout",
     "output_type": "stream",
     "text": [
      "995\n",
      "Val: 0.36652514338493347\n",
      "5\n",
      "Train: 0.184158593416214\n"
     ]
    }
   ],
   "execution_count": 41
  },
  {
   "metadata": {},
   "cell_type": "markdown",
   "source": "A big difference between **train** and **val loss** indicates overfitting.",
   "id": "1cd56b04552104f0"
  }
 ],
 "metadata": {
  "kernelspec": {
   "display_name": "Python 3",
   "language": "python",
   "name": "python3"
  },
  "language_info": {
   "codemirror_mode": {
    "name": "ipython",
    "version": 2
   },
   "file_extension": ".py",
   "mimetype": "text/x-python",
   "name": "python",
   "nbconvert_exporter": "python",
   "pygments_lexer": "ipython2",
   "version": "2.7.6"
  }
 },
 "nbformat": 4,
 "nbformat_minor": 5
}
