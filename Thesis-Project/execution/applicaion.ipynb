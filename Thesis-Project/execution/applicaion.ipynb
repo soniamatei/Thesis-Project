{
 "cells": [
  {
   "cell_type": "code",
   "execution_count": 1,
   "metadata": {},
   "outputs": [
    {
     "name": "stderr",
     "output_type": "stream",
     "text": [
      "Failed to detect the name of this notebook, you can set it manually with the WANDB_NOTEBOOK_NAME environment variable to enable code saving.\n",
      "\u001b[34m\u001b[1mwandb\u001b[0m: Currently logged in as: \u001b[33msoniamatei\u001b[0m. Use \u001b[1m`wandb login --relogin`\u001b[0m to force relogin\n"
     ]
    },
    {
     "data": {
      "text/html": [
       "wandb version 0.17.1 is available!  To upgrade, please run:\n",
       " $ pip install wandb --upgrade"
      ],
      "text/plain": [
       "<IPython.core.display.HTML object>"
      ]
     },
     "metadata": {},
     "output_type": "display_data"
    },
    {
     "data": {
      "text/html": [
       "Tracking run with wandb version 0.17.0"
      ],
      "text/plain": [
       "<IPython.core.display.HTML object>"
      ]
     },
     "metadata": {},
     "output_type": "display_data"
    },
    {
     "data": {
      "text/html": [
       "Run data is saved locally in <code>/home/sonia2oo2soia/projects/Thesis-Project/Thesis-Project/execution/wandb/run-20240607_140827-z3lq5eo1</code>"
      ],
      "text/plain": [
       "<IPython.core.display.HTML object>"
      ]
     },
     "metadata": {},
     "output_type": "display_data"
    },
    {
     "data": {
      "text/html": [
       "Syncing run <strong><a href='https://wandb.ai/soniamatei/vd_model_training/runs/z3lq5eo1' target=\"_blank\">fluent-shadow-870</a></strong> to <a href='https://wandb.ai/soniamatei/vd_model_training' target=\"_blank\">Weights & Biases</a> (<a href='https://wandb.me/run' target=\"_blank\">docs</a>)<br/>"
      ],
      "text/plain": [
       "<IPython.core.display.HTML object>"
      ]
     },
     "metadata": {},
     "output_type": "display_data"
    },
    {
     "data": {
      "text/html": [
       " View project at <a href='https://wandb.ai/soniamatei/vd_model_training' target=\"_blank\">https://wandb.ai/soniamatei/vd_model_training</a>"
      ],
      "text/plain": [
       "<IPython.core.display.HTML object>"
      ]
     },
     "metadata": {},
     "output_type": "display_data"
    },
    {
     "data": {
      "text/html": [
       " View run at <a href='https://wandb.ai/soniamatei/vd_model_training/runs/z3lq5eo1' target=\"_blank\">https://wandb.ai/soniamatei/vd_model_training/runs/z3lq5eo1</a>"
      ],
      "text/plain": [
       "<IPython.core.display.HTML object>"
      ]
     },
     "metadata": {},
     "output_type": "display_data"
    },
    {
     "name": "stderr",
     "output_type": "stream",
     "text": [
      "\u001b[34m\u001b[1mwandb\u001b[0m: Downloading large artifact vd_model_fold_1:latest, 471.40MB. 1 files... \n",
      "\u001b[34m\u001b[1mwandb\u001b[0m:   1 of 1 files downloaded.  \n",
      "Done. 0:0:3.0\n"
     ]
    },
    {
     "data": {
      "application/vnd.jupyter.widget-view+json": {
       "model_id": "48971be6b8db42dd8948bfd4bd70ec4c",
       "version_major": 2,
       "version_minor": 0
      },
      "text/plain": [
       "VBox(children=(Label(value='0.002 MB of 0.002 MB uploaded\\r'), FloatProgress(value=1.0, max=1.0)))"
      ]
     },
     "metadata": {},
     "output_type": "display_data"
    },
    {
     "data": {
      "text/html": [
       " View run <strong style=\"color:#cdcd00\">fluent-shadow-870</strong> at: <a href='https://wandb.ai/soniamatei/vd_model_training/runs/z3lq5eo1' target=\"_blank\">https://wandb.ai/soniamatei/vd_model_training/runs/z3lq5eo1</a><br/> View project at: <a href='https://wandb.ai/soniamatei/vd_model_training' target=\"_blank\">https://wandb.ai/soniamatei/vd_model_training</a><br/>Synced 5 W&B file(s), 0 media file(s), 0 artifact file(s) and 0 other file(s)"
      ],
      "text/plain": [
       "<IPython.core.display.HTML object>"
      ]
     },
     "metadata": {},
     "output_type": "display_data"
    },
    {
     "data": {
      "text/html": [
       "Find logs at: <code>./wandb/run-20240607_140827-z3lq5eo1/logs</code>"
      ],
      "text/plain": [
       "<IPython.core.display.HTML object>"
      ]
     },
     "metadata": {},
     "output_type": "display_data"
    }
   ],
   "source": [
    "import wandb\n",
    "\n",
    "run = wandb.init(project=\"vd_model_training\")\n",
    "\n",
    "# fetch the artifact and download\n",
    "artifact = run.use_artifact('vd_model_fold_1:latest')\n",
    "artifact_dir = artifact.download()\n",
    "\n",
    "run.finish()"
   ]
  },
  {
   "cell_type": "code",
   "execution_count": 2,
   "metadata": {},
   "outputs": [
    {
     "data": {
      "text/plain": [
       "True"
      ]
     },
     "execution_count": 2,
     "metadata": {},
     "output_type": "execute_result"
    }
   ],
   "source": [
    "import sys\n",
    "sys.path.insert(0, '/home/sonia2oo2soia/projects/Thesis-Project/Thesis-Project')  \n",
    "\n",
    "from dotenv import load_dotenv\n",
    "load_dotenv('/home/sonia2oo2soia/projects/Thesis-Project/Thesis-Project/.env')"
   ]
  },
  {
   "cell_type": "code",
   "execution_count": 3,
   "metadata": {},
   "outputs": [
    {
     "name": "stdout",
     "output_type": "stream",
     "text": [
      "device: cuda\n"
     ]
    },
    {
     "name": "stderr",
     "output_type": "stream",
     "text": [
      "/home/sonia2oo2soia/projects/Thesis-Project/Thesis-Project/venv/lib/python3.12/site-packages/torch/nn/modules/transformer.py:306: UserWarning: enable_nested_tensor is True, but self.use_nested_tensor is False because encoder_layer.self_attn.batch_first was not True(use batch_first for better inference performance)\n",
      "  warnings.warn(f\"enable_nested_tensor is True, but self.use_nested_tensor is False because {why_not_sparsity_fast_path}\")\n"
     ]
    },
    {
     "data": {
      "text/plain": [
       "ViolenceDetectionModel(\n",
       "  (vit): ViTModel(\n",
       "    (embeddings): ViTEmbeddings(\n",
       "      (patch_embeddings): ViTPatchEmbeddings(\n",
       "        (projection): Conv2d(3, 768, kernel_size=(16, 16), stride=(16, 16))\n",
       "      )\n",
       "      (dropout): Dropout(p=0.0, inplace=False)\n",
       "    )\n",
       "    (encoder): ViTEncoder(\n",
       "      (layer): ModuleList(\n",
       "        (0-11): 12 x ViTLayer(\n",
       "          (attention): ViTSdpaAttention(\n",
       "            (attention): ViTSdpaSelfAttention(\n",
       "              (query): Linear(in_features=768, out_features=768, bias=True)\n",
       "              (key): Linear(in_features=768, out_features=768, bias=True)\n",
       "              (value): Linear(in_features=768, out_features=768, bias=True)\n",
       "              (dropout): Dropout(p=0.0, inplace=False)\n",
       "            )\n",
       "            (output): ViTSelfOutput(\n",
       "              (dense): Linear(in_features=768, out_features=768, bias=True)\n",
       "              (dropout): Dropout(p=0.0, inplace=False)\n",
       "            )\n",
       "          )\n",
       "          (intermediate): ViTIntermediate(\n",
       "            (dense): Linear(in_features=768, out_features=3072, bias=True)\n",
       "            (intermediate_act_fn): GELUActivation()\n",
       "          )\n",
       "          (output): ViTOutput(\n",
       "            (dense): Linear(in_features=3072, out_features=768, bias=True)\n",
       "            (dropout): Dropout(p=0.0, inplace=False)\n",
       "          )\n",
       "          (layernorm_before): LayerNorm((768,), eps=1e-12, elementwise_affine=True)\n",
       "          (layernorm_after): LayerNorm((768,), eps=1e-12, elementwise_affine=True)\n",
       "        )\n",
       "      )\n",
       "    )\n",
       "    (layernorm): LayerNorm((768,), eps=1e-12, elementwise_affine=True)\n",
       "    (pooler): ViTPooler(\n",
       "      (dense): Linear(in_features=768, out_features=768, bias=True)\n",
       "      (activation): Tanh()\n",
       "    )\n",
       "  )\n",
       "  (transformer_encoder): TransformerModel(\n",
       "    (pos_encoder): PositionalEncoding(\n",
       "      (dropout): Dropout(p=0.5, inplace=False)\n",
       "    )\n",
       "    (transformer_encoder): TransformerEncoder(\n",
       "      (layers): ModuleList(\n",
       "        (0-5): 6 x TransformerEncoderLayer(\n",
       "          (self_attn): MultiheadAttention(\n",
       "            (out_proj): NonDynamicallyQuantizableLinear(in_features=768, out_features=768, bias=True)\n",
       "          )\n",
       "          (linear1): Linear(in_features=768, out_features=2048, bias=True)\n",
       "          (dropout): Dropout(p=0.1, inplace=False)\n",
       "          (linear2): Linear(in_features=2048, out_features=768, bias=True)\n",
       "          (norm1): LayerNorm((768,), eps=1e-05, elementwise_affine=True)\n",
       "          (norm2): LayerNorm((768,), eps=1e-05, elementwise_affine=True)\n",
       "          (dropout1): Dropout(p=0.1, inplace=False)\n",
       "          (dropout2): Dropout(p=0.1, inplace=False)\n",
       "        )\n",
       "      )\n",
       "    )\n",
       "  )\n",
       "  (fc): Sequential(\n",
       "    (0): Linear(in_features=768, out_features=256, bias=True)\n",
       "    (1): ReLU()\n",
       "    (2): BatchNorm1d(256, eps=1e-05, momentum=0.1, affine=True, track_running_stats=True)\n",
       "    (3): Linear(in_features=256, out_features=128, bias=True)\n",
       "    (4): ReLU()\n",
       "    (5): BatchNorm1d(128, eps=1e-05, momentum=0.1, affine=True, track_running_stats=True)\n",
       "    (6): Linear(in_features=128, out_features=1, bias=True)\n",
       "    (7): Sigmoid()\n",
       "  )\n",
       ")"
      ]
     },
     "execution_count": 3,
     "metadata": {},
     "output_type": "execute_result"
    }
   ],
   "source": [
    "import torch\n",
    "import os\n",
    "\n",
    "from model.violence_detection_model import ViolenceDetectionModel\n",
    "\n",
    "device = \"cuda\" if torch.cuda.is_available() else \"cpu\"\n",
    "torch.cuda.empty_cache()\n",
    "torch.cuda.synchronize()\n",
    "print(\"device: {}\".format(device))\n",
    "\n",
    "model_path = os.path.join(artifact_dir, 'vd_model.pth')\n",
    "\n",
    "vd_model = ViolenceDetectionModel(json_file=\"model_settings.json\").to(device)\n",
    "vd_model.load_state_dict(torch.load(model_path))\n",
    "vd_model.eval()"
   ]
  },
  {
   "cell_type": "code",
   "execution_count": 61,
   "metadata": {},
   "outputs": [
    {
     "name": "stdout",
     "output_type": "stream",
     "text": [
      "6\n",
      "Accuracy: 16.216216216216218, Loss: 0.5669353306293488\n",
      "6\n",
      "Accuracy: 16.216216216216218, Loss: 0.5403800904750824\n",
      "6\n",
      "Accuracy: 16.216216216216218, Loss: 0.5568732619285583\n",
      "6\n",
      "Accuracy: 16.216216216216218, Loss: 0.6398013234138489\n",
      "6\n",
      "Accuracy: 16.216216216216218, Loss: 0.527237556874752\n",
      "5\n",
      "Accuracy: 13.513513513513514, Loss: 0.5714094564318657\n",
      "6\n",
      "Accuracy: 16.216216216216218, Loss: 0.5504493415355682\n",
      "6\n",
      "Accuracy: 16.216216216216218, Loss: 0.4610436037182808\n",
      "6\n",
      "Accuracy: 16.216216216216218, Loss: 0.4614778235554695\n",
      "6\n",
      "Accuracy: 16.216216216216218, Loss: 0.519511915743351\n"
     ]
    }
   ],
   "source": [
    "from torch.utils.data import DataLoader\n",
    "from torch.nn import BCELoss\n",
    "from matplotlib import pyplot as plt, animation\n",
    "from sklearn.metrics import accuracy_score\n",
    "\n",
    "from data_handling.data_augmentation import VideoTransform\n",
    "from data_handling.video_dataset import VideoDataset\n",
    "from utils import collate_fn_pad\n",
    "\n",
    "hf_transforms = VideoTransform(dataset=\"HockeyFights\", json_file=\"augmentation_values.json\")\n",
    "hf_dataset = VideoDataset(dataset=\"HockeyAngry\", transformations=hf_transforms)\n",
    "criterion = BCELoss()\n",
    "\n",
    "for _ in range(10):\n",
    "    cummulative_loss = 0\n",
    "    cummulative_acc = 0\n",
    "\n",
    "    # loop for interchanging the datasets\n",
    "    for _ in range(2):\n",
    "        hf_dataset.flag = not hf_dataset.flag\n",
    "        dataloader = DataLoader(hf_dataset, batch_size=24, collate_fn=collate_fn_pad, shuffle=True)\n",
    "        \n",
    "        for batch in dataloader:\n",
    "            video, label, lenght = batch\n",
    "            video, label, lenght = video.to(device), label.to(device), lenght.to(device)\n",
    "            output = vd_model(video, lenght)\n",
    "            \n",
    "            loss = criterion(output, label)\n",
    "            cummulative_loss += loss.item()\n",
    "\n",
    "            correct = (label == (output > 0.5).float()).sum()\n",
    "            cummulative_acc += correct.item()\n",
    "\n",
    "    print(cummulative_acc)\n",
    "    print(f\"Accuracy: {cummulative_acc / 37 *100}, Loss: {cummulative_loss/2}\")\n"
   ]
  },
  {
   "cell_type": "markdown",
   "metadata": {},
   "source": []
  },
  {
   "cell_type": "code",
   "execution_count": 79,
   "metadata": {},
   "outputs": [
    {
     "name": "stderr",
     "output_type": "stream",
     "text": [
      "MovieWriter imagemagick unavailable; using Pillow instead.\n"
     ]
    },
    {
     "name": "stdout",
     "output_type": "stream",
     "text": [
      "tensor([1.], device='cuda:0') tensor([0.8337], device='cuda:0', grad_fn=<SqueezeBackward1>) tensor(0.1819, device='cuda:0', grad_fn=<BinaryCrossEntropyBackward0>)\n"
     ]
    }
   ],
   "source": [
    "from torch.utils.data import DataLoader\n",
    "from torch.nn import BCELoss\n",
    "from matplotlib import pyplot as plt, animation\n",
    "from sklearn.metrics import accuracy_score\n",
    "\n",
    "from data_handling.data_augmentation import VideoTransform\n",
    "from data_handling.video_dataset import VideoDataset\n",
    "from utils import collate_fn_pad\n",
    "\n",
    "hf_transforms = VideoTransform(dataset=\"HockeyFights\", json_file=\"augmentation_values.json\")\n",
    "hf_dataset = VideoDataset(dataset=\"HockeyAngry\", transformations=hf_transforms)\n",
    "dataloader = DataLoader(hf_dataset, batch_size=1, collate_fn=collate_fn_pad, shuffle=True)\n",
    "criterion = BCELoss()\n",
    "\n",
    "for batch in dataloader:\n",
    "    video, label, lenght = batch\n",
    "    # video.unsqueeze(0) # for batch dimension needed\n",
    "    video, label, lenght = video.to(device), label.to(device), lenght.to(device)\n",
    "    output = vd_model(video, lenght)\n",
    "    \n",
    "    loss = criterion(output, label)\n",
    "\n",
    "    print(label, output, loss)\n",
    "\n",
    "    fig, ax = plt.subplots(figsize=(3, 3))\n",
    "    frames = batch[0][0].permute(0, 2, 3, 1)\n",
    "\n",
    "    # define an animation to play th video\n",
    "    def animate(frame):\n",
    "        ax.clear()\n",
    "        ax.imshow(frame.float().clamp(0, 1))\n",
    "        ax.axis(\"off\")\n",
    "\n",
    "    ani = animation.FuncAnimation(fig, animate, frames=frames, interval=41)\n",
    "    ani.save(f'animation.gif', writer='imagemagick')\n",
    "    plt.close(fig)\n",
    "\n",
    "    break\n"
   ]
  }
 ],
 "metadata": {
  "kernelspec": {
   "display_name": "venv",
   "language": "python",
   "name": "python3"
  },
  "language_info": {
   "codemirror_mode": {
    "name": "ipython",
    "version": 3
   },
   "file_extension": ".py",
   "mimetype": "text/x-python",
   "name": "python",
   "nbconvert_exporter": "python",
   "pygments_lexer": "ipython3",
   "version": "3.12.3"
  }
 },
 "nbformat": 4,
 "nbformat_minor": 2
}
